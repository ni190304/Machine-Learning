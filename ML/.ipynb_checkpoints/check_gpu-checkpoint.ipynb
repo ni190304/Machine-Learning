{
 "cells": [
  {
   "cell_type": "code",
   "execution_count": 1,
   "id": "31fc90df",
   "metadata": {},
   "outputs": [
    {
     "name": "stdout",
     "output_type": "stream",
     "text": [
      "Hello\n"
     ]
    }
   ],
   "source": [
    "print(\"Hello\")"
   ]
  },
  {
   "cell_type": "code",
   "execution_count": 5,
   "id": "1b335a78",
   "metadata": {},
   "outputs": [
    {
     "name": "stdout",
     "output_type": "stream",
     "text": [
      "Number of GPU available:  0\n"
     ]
    }
   ],
   "source": [
    "import tensorflow as tf\n",
    "import tensorflow_hub as hub\n",
    "\n",
    "print(\"Number of GPU available: \",len(tf.config.list_physical_devices('GPU')))\n",
    "\n",
    "\n",
    "\n",
    "\n",
    "\n"
   ]
  },
  {
   "cell_type": "code",
   "execution_count": 6,
   "id": "7ce263d9",
   "metadata": {},
   "outputs": [
    {
     "name": "stdout",
     "output_type": "stream",
     "text": [
      "[name: \"/device:CPU:0\"\n",
      "device_type: \"CPU\"\n",
      "memory_limit: 268435456\n",
      "locality {\n",
      "}\n",
      "incarnation: 6066431520868370050\n",
      "]\n"
     ]
    }
   ],
   "source": [
    "from tensorflow.python.client import device_lib\n",
    "print(device_lib.list_local_devices())\n"
   ]
  },
  {
   "cell_type": "code",
   "execution_count": 4,
   "id": "36060406",
   "metadata": {},
   "outputs": [
    {
     "name": "stdout",
     "output_type": "stream",
     "text": [
      "Requirement already satisfied: tensorflow-gpu in c:\\users\\nihaal\\miniconda3\\envs\\py36\\lib\\site-packages (2.6.0)\n",
      "Requirement already satisfied: google-pasta~=0.2 in c:\\users\\nihaal\\miniconda3\\envs\\py36\\lib\\site-packages (from tensorflow-gpu) (0.2.0)\n",
      "Requirement already satisfied: wheel~=0.35 in c:\\users\\nihaal\\miniconda3\\envs\\py36\\lib\\site-packages (from tensorflow-gpu) (0.37.1)\n",
      "Requirement already satisfied: termcolor~=1.1.0 in c:\\users\\nihaal\\miniconda3\\envs\\py36\\lib\\site-packages (from tensorflow-gpu) (1.1.0)\n",
      "Requirement already satisfied: flatbuffers~=1.12.0 in c:\\users\\nihaal\\miniconda3\\envs\\py36\\lib\\site-packages (from tensorflow-gpu) (1.12)\n",
      "Requirement already satisfied: wrapt~=1.12.1 in c:\\users\\nihaal\\miniconda3\\envs\\py36\\lib\\site-packages (from tensorflow-gpu) (1.12.1)\n",
      "Requirement already satisfied: protobuf>=3.9.2 in c:\\users\\nihaal\\miniconda3\\envs\\py36\\lib\\site-packages (from tensorflow-gpu) (3.19.6)\n",
      "Requirement already satisfied: numpy~=1.19.2 in c:\\users\\nihaal\\miniconda3\\envs\\py36\\lib\\site-packages (from tensorflow-gpu) (1.19.5)\n",
      "Requirement already satisfied: astunparse~=1.6.3 in c:\\users\\nihaal\\miniconda3\\envs\\py36\\lib\\site-packages (from tensorflow-gpu) (1.6.3)\n",
      "Requirement already satisfied: typing-extensions~=3.7.4 in c:\\users\\nihaal\\miniconda3\\envs\\py36\\lib\\site-packages (from tensorflow-gpu) (3.7.4.3)\n",
      "Requirement already satisfied: tensorflow-estimator~=2.6 in c:\\users\\nihaal\\miniconda3\\envs\\py36\\lib\\site-packages (from tensorflow-gpu) (2.6.0)\n",
      "Requirement already satisfied: keras~=2.6 in c:\\users\\nihaal\\miniconda3\\envs\\py36\\lib\\site-packages (from tensorflow-gpu) (2.6.0)\n",
      "Requirement already satisfied: clang~=5.0 in c:\\users\\nihaal\\miniconda3\\envs\\py36\\lib\\site-packages (from tensorflow-gpu) (5.0)\n",
      "Requirement already satisfied: h5py~=3.1.0 in c:\\users\\nihaal\\miniconda3\\envs\\py36\\lib\\site-packages (from tensorflow-gpu) (3.1.0)\n",
      "Requirement already satisfied: opt-einsum~=3.3.0 in c:\\users\\nihaal\\miniconda3\\envs\\py36\\lib\\site-packages (from tensorflow-gpu) (3.3.0)\n",
      "Requirement already satisfied: grpcio<2.0,>=1.37.0 in c:\\users\\nihaal\\miniconda3\\envs\\py36\\lib\\site-packages (from tensorflow-gpu) (1.48.2)\n",
      "Requirement already satisfied: six~=1.15.0 in c:\\users\\nihaal\\miniconda3\\envs\\py36\\lib\\site-packages (from tensorflow-gpu) (1.15.0)\n",
      "Requirement already satisfied: keras-preprocessing~=1.1.2 in c:\\users\\nihaal\\miniconda3\\envs\\py36\\lib\\site-packages (from tensorflow-gpu) (1.1.2)\n",
      "Requirement already satisfied: gast==0.4.0 in c:\\users\\nihaal\\miniconda3\\envs\\py36\\lib\\site-packages (from tensorflow-gpu) (0.4.0)\n",
      "Requirement already satisfied: tensorboard~=2.6 in c:\\users\\nihaal\\miniconda3\\envs\\py36\\lib\\site-packages (from tensorflow-gpu) (2.6.0)\n",
      "Requirement already satisfied: absl-py~=0.10 in c:\\users\\nihaal\\miniconda3\\envs\\py36\\lib\\site-packages (from tensorflow-gpu) (0.15.0)\n",
      "Requirement already satisfied: cached-property in c:\\users\\nihaal\\miniconda3\\envs\\py36\\lib\\site-packages (from h5py~=3.1.0->tensorflow-gpu) (1.5.2)\n",
      "Requirement already satisfied: google-auth<2,>=1.6.3 in c:\\users\\nihaal\\miniconda3\\envs\\py36\\lib\\site-packages (from tensorboard~=2.6->tensorflow-gpu) (1.35.0)\n",
      "Requirement already satisfied: werkzeug>=0.11.15 in c:\\users\\nihaal\\miniconda3\\envs\\py36\\lib\\site-packages (from tensorboard~=2.6->tensorflow-gpu) (2.0.3)\n",
      "Requirement already satisfied: requests<3,>=2.21.0 in c:\\users\\nihaal\\miniconda3\\envs\\py36\\lib\\site-packages (from tensorboard~=2.6->tensorflow-gpu) (2.27.1)\n",
      "Requirement already satisfied: google-auth-oauthlib<0.5,>=0.4.1 in c:\\users\\nihaal\\miniconda3\\envs\\py36\\lib\\site-packages (from tensorboard~=2.6->tensorflow-gpu) (0.4.6)\n",
      "Requirement already satisfied: tensorboard-data-server<0.7.0,>=0.6.0 in c:\\users\\nihaal\\miniconda3\\envs\\py36\\lib\\site-packages (from tensorboard~=2.6->tensorflow-gpu) (0.6.1)\n",
      "Requirement already satisfied: markdown>=2.6.8 in c:\\users\\nihaal\\miniconda3\\envs\\py36\\lib\\site-packages (from tensorboard~=2.6->tensorflow-gpu) (3.3.7)\n",
      "Requirement already satisfied: tensorboard-plugin-wit>=1.6.0 in c:\\users\\nihaal\\miniconda3\\envs\\py36\\lib\\site-packages (from tensorboard~=2.6->tensorflow-gpu) (1.8.1)\n",
      "Requirement already satisfied: setuptools>=41.0.0 in c:\\users\\nihaal\\miniconda3\\envs\\py36\\lib\\site-packages (from tensorboard~=2.6->tensorflow-gpu) (58.0.4)\n",
      "Requirement already satisfied: pyasn1-modules>=0.2.1 in c:\\users\\nihaal\\miniconda3\\envs\\py36\\lib\\site-packages (from google-auth<2,>=1.6.3->tensorboard~=2.6->tensorflow-gpu) (0.3.0)\n",
      "Requirement already satisfied: cachetools<5.0,>=2.0.0 in c:\\users\\nihaal\\miniconda3\\envs\\py36\\lib\\site-packages (from google-auth<2,>=1.6.3->tensorboard~=2.6->tensorflow-gpu) (4.2.4)\n",
      "Requirement already satisfied: rsa<5,>=3.1.4 in c:\\users\\nihaal\\miniconda3\\envs\\py36\\lib\\site-packages (from google-auth<2,>=1.6.3->tensorboard~=2.6->tensorflow-gpu) (4.9)\n",
      "Requirement already satisfied: requests-oauthlib>=0.7.0 in c:\\users\\nihaal\\miniconda3\\envs\\py36\\lib\\site-packages (from google-auth-oauthlib<0.5,>=0.4.1->tensorboard~=2.6->tensorflow-gpu) (1.3.1)\n",
      "Requirement already satisfied: importlib-metadata>=4.4 in c:\\users\\nihaal\\miniconda3\\envs\\py36\\lib\\site-packages (from markdown>=2.6.8->tensorboard~=2.6->tensorflow-gpu) (4.8.3)\n",
      "Requirement already satisfied: zipp>=0.5 in c:\\users\\nihaal\\miniconda3\\envs\\py36\\lib\\site-packages (from importlib-metadata>=4.4->markdown>=2.6.8->tensorboard~=2.6->tensorflow-gpu) (3.6.0)\n",
      "Requirement already satisfied: pyasn1<0.6.0,>=0.4.6 in c:\\users\\nihaal\\miniconda3\\envs\\py36\\lib\\site-packages (from pyasn1-modules>=0.2.1->google-auth<2,>=1.6.3->tensorboard~=2.6->tensorflow-gpu) (0.5.1)\n",
      "Requirement already satisfied: certifi>=2017.4.17 in c:\\users\\nihaal\\miniconda3\\envs\\py36\\lib\\site-packages (from requests<3,>=2.21.0->tensorboard~=2.6->tensorflow-gpu) (2021.5.30)\n",
      "Requirement already satisfied: charset-normalizer~=2.0.0 in c:\\users\\nihaal\\miniconda3\\envs\\py36\\lib\\site-packages (from requests<3,>=2.21.0->tensorboard~=2.6->tensorflow-gpu) (2.0.12)\n",
      "Requirement already satisfied: idna<4,>=2.5 in c:\\users\\nihaal\\miniconda3\\envs\\py36\\lib\\site-packages (from requests<3,>=2.21.0->tensorboard~=2.6->tensorflow-gpu) (3.6)\n",
      "Requirement already satisfied: urllib3<1.27,>=1.21.1 in c:\\users\\nihaal\\miniconda3\\envs\\py36\\lib\\site-packages (from requests<3,>=2.21.0->tensorboard~=2.6->tensorflow-gpu) (1.26.18)\n",
      "Requirement already satisfied: oauthlib>=3.0.0 in c:\\users\\nihaal\\miniconda3\\envs\\py36\\lib\\site-packages (from requests-oauthlib>=0.7.0->google-auth-oauthlib<0.5,>=0.4.1->tensorboard~=2.6->tensorflow-gpu) (3.2.2)\n",
      "Requirement already satisfied: dataclasses in c:\\users\\nihaal\\miniconda3\\envs\\py36\\lib\\site-packages (from werkzeug>=0.11.15->tensorboard~=2.6->tensorflow-gpu) (0.8)\n"
     ]
    }
   ],
   "source": [
    "!pip install tensorflow-gpu"
   ]
  },
  {
   "cell_type": "code",
   "execution_count": null,
   "id": "75296d36",
   "metadata": {},
   "outputs": [],
   "source": []
  }
 ],
 "metadata": {
  "kernelspec": {
   "display_name": "Python 3",
   "language": "python",
   "name": "python3"
  },
  "language_info": {
   "codemirror_mode": {
    "name": "ipython",
    "version": 3
   },
   "file_extension": ".py",
   "mimetype": "text/x-python",
   "name": "python",
   "nbconvert_exporter": "python",
   "pygments_lexer": "ipython3",
   "version": "3.6.13"
  }
 },
 "nbformat": 4,
 "nbformat_minor": 5
}
